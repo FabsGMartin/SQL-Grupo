{
 "cells": [
  {
   "cell_type": "code",
   "execution_count": 10,
   "id": "7e55ffbc",
   "metadata": {},
   "outputs": [],
   "source": [
    "import pandas as pd\n",
    "import sqlite3\n"
   ]
  },
  {
   "cell_type": "code",
   "execution_count": 11,
   "id": "2c39f664",
   "metadata": {},
   "outputs": [],
   "source": [
    "conn = sqlite3.connect(\"database_proyecto.db\")\n",
    "cursor = conn.cursor()"
   ]
  },
  {
   "cell_type": "code",
   "execution_count": 12,
   "id": "2f07ce4d",
   "metadata": {},
   "outputs": [],
   "source": [
    "cursor.execute('''\n",
    "CREATE TABLE IF NOT EXISTS alumnos (\n",
    "    id_alumno INTEGER PRIMARY KEY,\n",
    "    nombre TEXT,\n",
    "    email TEXT,\n",
    "    promocion TEXT,\n",
    "    fecha_comienzo TEXT,\n",
    "    campus TEXT,\n",
    "    vertical TEXT\n",
    ")\n",
    "''')\n",
    "conn.commit()"
   ]
  },
  {
   "cell_type": "code",
   "execution_count": null,
   "id": "b6950447",
   "metadata": {},
   "outputs": [],
   "source": [
    "csv_path = \"alumnos.csv\"  \n",
    "df = pd.read_csv(csv_path)"
   ]
  },
  {
   "cell_type": "code",
   "execution_count": null,
   "id": "f38d7d43",
   "metadata": {},
   "outputs": [],
   "source": [
    "# Eliminar duplicados en id_alumno\n",
    "df = df.drop_duplicates(subset=['id_alumno'])\n",
    "\n",
    "# Convertir a lista de tuplas\n",
    "data = list(df.itertuples(index=False, name=None))"
   ]
  },
  {
   "cell_type": "code",
   "execution_count": 15,
   "id": "b3a9e942",
   "metadata": {},
   "outputs": [],
   "source": [
    "cursor.executemany('''\n",
    "    INSERT OR IGNORE INTO alumnos\n",
    "    (id_alumno, nombre, email, promocion, fecha_comienzo, campus, vertical)\n",
    "    VALUES (?, ?, ?, ?, ?, ?, ?)\n",
    "''', data)\n",
    "conn.commit()"
   ]
  },
  {
   "cell_type": "code",
   "execution_count": 16,
   "id": "baadc43b",
   "metadata": {},
   "outputs": [
    {
     "name": "stdout",
     "output_type": "stream",
     "text": [
      "   id_alumno            nombre                       email   promocion  \\\n",
      "0          1      Jafet Casals      Jafet_Casals@gmail.com  Septiembre   \n",
      "1          2  Jorge Manzanares  Jorge_Manzanares@gmail.com  Septiembre   \n",
      "2          3     Onofre Adadia     Onofre_Adadia@gmail.com  Septiembre   \n",
      "3          4      Merche Prada      Merche_Prada@gmail.com  Septiembre   \n",
      "4          5      Pilar Abella      Pilar_Abella@gmail.com  Septiembre   \n",
      "\n",
      "  fecha_comienzo  campus vertical  \n",
      "0     2023-09-18  Madrid       DS  \n",
      "1     2023-09-18  Madrid       DS  \n",
      "2     2023-09-18  Madrid       DS  \n",
      "3     2023-09-18  Madrid       DS  \n",
      "4     2023-09-18  Madrid       DS  \n",
      "   total\n",
      "0     52\n"
     ]
    }
   ],
   "source": [
    "def sql_query(query):\n",
    "    return pd.read_sql(query, conn)\n",
    "\n",
    "# Mostrar primeras filas\n",
    "print(sql_query(\"SELECT * FROM alumnos LIMIT 5\"))\n",
    "\n",
    "# Contar total de registros\n",
    "print(sql_query(\"SELECT COUNT(*) AS total FROM alumnos\"))"
   ]
  },
  {
   "cell_type": "code",
   "execution_count": 24,
   "id": "c3f36519",
   "metadata": {},
   "outputs": [],
   "source": [
    "cursor.execute('''\n",
    "CREATE TABLE IF NOT EXISTS profesores (\n",
    "    id_profesor INTEGER PRIMARY KEY,\n",
    "    nombre TEXT,\n",
    "    rol TEXT,\n",
    "    vertical TEXT,\n",
    "    promocion TEXT,\n",
    "    campus TEXT,\n",
    "    modalidad TEXT\n",
    ")\n",
    "''')\n",
    "conn.commit()"
   ]
  },
  {
   "cell_type": "code",
   "execution_count": null,
   "id": "bb8d1448",
   "metadata": {},
   "outputs": [],
   "source": [
    "csv_path = \"profesores.csv\"  \n",
    "df = pd.read_csv(csv_path)"
   ]
  },
  {
   "cell_type": "code",
   "execution_count": 19,
   "id": "3aa5bed9",
   "metadata": {},
   "outputs": [],
   "source": [
    "# Eliminar duplicados en id_alumno\n",
    "df = df.drop_duplicates(subset=['id_profesor'])\n",
    "\n",
    "# Convertir a lista de tuplas\n",
    "data = list(df.itertuples(index=False, name=None))"
   ]
  },
  {
   "cell_type": "code",
   "execution_count": 25,
   "id": "68d7232f",
   "metadata": {},
   "outputs": [],
   "source": [
    "cursor.executemany('''\n",
    "    INSERT OR IGNORE INTO profesores\n",
    "    (id_profesor, nombre, rol, vertical, promocion, campus, modalidad)\n",
    "    VALUES (?, ?, ?, ?, ?, ?, ?)\n",
    "''', data)\n",
    "conn.commit()"
   ]
  },
  {
   "cell_type": "code",
   "execution_count": 26,
   "id": "cf7888f7",
   "metadata": {},
   "outputs": [
    {
     "name": "stdout",
     "output_type": "stream",
     "text": [
      "   id_alumno            nombre                       email   promocion  \\\n",
      "0          1      Jafet Casals      Jafet_Casals@gmail.com  Septiembre   \n",
      "1          2  Jorge Manzanares  Jorge_Manzanares@gmail.com  Septiembre   \n",
      "2          3     Onofre Adadia     Onofre_Adadia@gmail.com  Septiembre   \n",
      "3          4      Merche Prada      Merche_Prada@gmail.com  Septiembre   \n",
      "4          5      Pilar Abella      Pilar_Abella@gmail.com  Septiembre   \n",
      "\n",
      "  fecha_comienzo  campus vertical  \n",
      "0     2023-09-18  Madrid       DS  \n",
      "1     2023-09-18  Madrid       DS  \n",
      "2     2023-09-18  Madrid       DS  \n",
      "3     2023-09-18  Madrid       DS  \n",
      "4     2023-09-18  Madrid       DS  \n",
      "   total\n",
      "0     52\n"
     ]
    }
   ],
   "source": [
    "def sql_query(query):\n",
    "    return pd.read_sql(query, conn)\n",
    "\n",
    "# Mostrar primeras filas\n",
    "print(sql_query(\"SELECT * FROM alumnos LIMIT 5\"))\n",
    "\n",
    "# Contar total de registros\n",
    "print(sql_query(\"SELECT COUNT(*) AS total FROM alumnos\"))"
   ]
  },
  {
   "cell_type": "code",
   "execution_count": null,
   "id": "1dfe2abc",
   "metadata": {},
   "outputs": [],
   "source": [
    "cursor.execute('''\n",
    "CREATE TABLE IF NOT EXISTS proyectos (\n",
    "    id_proyecto INTEGER PRIMARY KEY,\n",
    "    nombre_proyecto\n",
    "    vertical\n",
    ")\n",
    "''')\n",
    "conn.commit()"
   ]
  },
  {
   "cell_type": "code",
   "execution_count": null,
   "id": "71991894",
   "metadata": {},
   "outputs": [],
   "source": [
    "cursor.execute('''\n",
    "CREATE TABLE IF NOT EXISTS alumno_proyecto (\n",
    "    id_alumno INTEGER,\n",
    "    id_proyecto INTEGER,\n",
    "    calificacion TEXT,\n",
    "    FOREIGN KEY (id_alumno) REFERENCES alumnos(id_alumno)\n",
    "    FOREIGN KEY (id_proyecto) REFERENCES alumnos(id_proyecto)\n",
    ")\n",
    "''')\n",
    "conn.commit()"
   ]
  }
 ],
 "metadata": {
  "kernelspec": {
   "display_name": "Python 3",
   "language": "python",
   "name": "python3"
  },
  "language_info": {
   "codemirror_mode": {
    "name": "ipython",
    "version": 3
   },
   "file_extension": ".py",
   "mimetype": "text/x-python",
   "name": "python",
   "nbconvert_exporter": "python",
   "pygments_lexer": "ipython3",
   "version": "3.14.0"
  }
 },
 "nbformat": 4,
 "nbformat_minor": 5
}
