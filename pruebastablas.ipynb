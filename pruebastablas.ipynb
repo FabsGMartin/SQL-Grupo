{
 "cells": [
  {
   "cell_type": "code",
   "execution_count": null,
   "id": "259edefe",
   "metadata": {},
   "outputs": [],
   "source": [
    "cursor.execute('''\n",
    "CREATE TABLE IF NOT EXISTS modalidad (\n",
    "    id INTEGER PRIMARY KEY,\n",
    "    modalidad TEXT\n",
    ")\n",
    "''')\n"
   ]
  },
  {
   "cell_type": "code",
   "execution_count": null,
   "id": "b8220516",
   "metadata": {},
   "outputs": [],
   "source": [
    "cursor.execute('''\n",
    "CREATE TABLE IF NOT EXISTS calificaciones (\n",
    "    id INTEGER PRIMARY KEY,\n",
    "    alumno_id INTEGER,\n",
    "    proyecto_id INTEGER\n",
    "    calificacion TEXT\n",
    "    FOREIGN KEY (alumno_id) REFERENCES alumnos(id)\n",
    "    FOREIGN KEY (proyecto_id) REFERENCES proyecto(id)\n",
    ")\n",
    "''')"
   ]
  },
  {
   "cell_type": "code",
   "execution_count": null,
   "id": "76341933",
   "metadata": {},
   "outputs": [],
   "source": [
    "cursor.execute('''\n",
    "CREATE TABLE IF NOT EXISTS profesores (\n",
    "    id INTEGER PRIMARY KEY,\n",
    "    nombre TEXT,\n",
    "    rol_id INTEGER\n",
    "    bootcamp_id INTEGER\n",
    "    modalidad_id INTEGER\n",
    "    FOREIGN KEY (rol_id) REFERENCES roles_profesores(id)\n",
    "    FOREIGN KEY (bootcamp_id) REFERENCES bootcamp(id)\n",
    "    FOREIGN KEY (modalidad_id) REFERENCES modalidad(id)\n",
    ")\n",
    "''')"
   ]
  },
  {
   "cell_type": "code",
   "execution_count": null,
   "id": "680990d1",
   "metadata": {},
   "outputs": [],
   "source": [
    "cursor.execute('''\n",
    "CREATE TABLE IF NOT EXISTS roles_profesores (\n",
    "    id INTEGER PRIMARY KEY,\n",
    "    rol TEXT\n",
    ")\n",
    "''')"
   ]
  },
  {
   "cell_type": "code",
   "execution_count": null,
   "id": "364d7fd7",
   "metadata": {},
   "outputs": [],
   "source": [
    "cursor.execute('''\n",
    "CREATE TABLE IF NOT EXISTS campus (\n",
    "    id INTEGER PRIMARY KEY,\n",
    "    campus TEXT,\n",
    ")\n",
    "''')"
   ]
  },
  {
   "cell_type": "code",
   "execution_count": null,
   "id": "57dc20c3",
   "metadata": {},
   "outputs": [],
   "source": [
    "cursor.execute('''\n",
    "CREATE TABLE IF NOT EXISTS promociones (\n",
    "    id INTEGER PRIMARY KEY,\n",
    "    promocion TEXT,\n",
    ")\n",
    "''')"
   ]
  },
  {
   "cell_type": "code",
   "execution_count": null,
   "id": "8c22893c",
   "metadata": {},
   "outputs": [],
   "source": [
    "cursor.execute('''\n",
    "CREATE TABLE IF NOT EXISTS verticales (\n",
    "    id INTEGER PRIMARY KEY,\n",
    "    verticales TEXT,\n",
    ")\n",
    "''')"
   ]
  },
  {
   "cell_type": "code",
   "execution_count": null,
   "id": "ac488a19",
   "metadata": {},
   "outputs": [],
   "source": [
    "cursor.execute('''\n",
    "CREATE TABLE IF NOT EXISTS proyectos (\n",
    "    id INTEGER PRIMARY KEY,\n",
    "    nombre TEXT,\n",
    "    vertical_id INTEGER,\n",
    "    FOREIGN KEY (vertical_id) REFERENCES verticales(id)\n",
    ")\n",
    "''')"
   ]
  },
  {
   "cell_type": "code",
   "execution_count": null,
   "id": "d38ddb09",
   "metadata": {},
   "outputs": [],
   "source": [
    "cursor.execute('''\n",
    "CREATE TABLE IF NOT EXISTS alumnos (\n",
    "    id INTEGER PRIMARY KEY,\n",
    "    nombre TEXT,\n",
    "    email TEXT,\n",
    "    bootcamp_id INTEGER\n",
    "    fecha_comienzo DATE\n",
    "    FOREIGN KEY (bootcamp_id) REFERENCES bootcamp(id)\n",
    ")\n",
    "''')"
   ]
  },
  {
   "cell_type": "code",
   "execution_count": null,
   "id": "fb6c88ab",
   "metadata": {},
   "outputs": [],
   "source": [
    "cursor.execute('''\n",
    "CREATE TABLE IF NOT EXISTS bootcamps (\n",
    "    id INTEGER PRIMARY KEY,\n",
    "    promocion_id INTEGER,\n",
    "    campus_id INTEGER,\n",
    "    vertical_id INTEGER,\n",
    "    FOREIGN KEY (promocion_id) REFERENCES promociones(id),\n",
    "    FOREIGN KEY (campus_id) REFERENCES campus(id),\n",
    "    FOREIGN KEY (vertical_id) REFERENCES verticales(id)\n",
    "''')"
   ]
  }
 ],
 "metadata": {
  "kernelspec": {
   "display_name": "Python 3",
   "language": "python",
   "name": "python3"
  },
  "language_info": {
   "name": "python",
   "version": "3.14.0"
  }
 },
 "nbformat": 4,
 "nbformat_minor": 5
}
