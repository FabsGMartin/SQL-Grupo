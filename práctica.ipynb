{
 "cells": [
  {
   "cell_type": "code",
   "execution_count": 1,
   "id": "fd287423",
   "metadata": {},
   "outputs": [],
   "source": [
    "import sqlite3\n",
    "import pandas as pd"
   ]
  },
  {
   "cell_type": "code",
   "execution_count": 2,
   "id": "ac3309d5",
   "metadata": {},
   "outputs": [],
   "source": [
    "#Conectar a base de datos\n",
    "conn = sqlite3.connect(\"database.db\")\n",
    "cursor= conn.cursor()"
   ]
  },
  {
   "cell_type": "code",
   "execution_count": 3,
   "id": "e41ba6ed",
   "metadata": {},
   "outputs": [],
   "source": [
    "def sql_query(query):\n",
    "    return pd.read_sql(query, conn)"
   ]
  },
  {
   "cell_type": "code",
   "execution_count": 5,
   "id": "7fbda1cb",
   "metadata": {},
   "outputs": [
    {
     "name": "stdout",
     "output_type": "stream",
     "text": [
      "<class 'pandas.core.frame.DataFrame'>\n",
      "RangeIndex: 260 entries, 0 to 259\n",
      "Data columns (total 3 columns):\n",
      " #   Column        Non-Null Count  Dtype \n",
      "---  ------        --------------  ----- \n",
      " 0   id_alumno     260 non-null    int64 \n",
      " 1   id_proyecto   260 non-null    int64 \n",
      " 2   calificacion  260 non-null    object\n",
      "dtypes: int64(2), object(1)\n",
      "memory usage: 6.2+ KB\n"
     ]
    }
   ],
   "source": [
    "csv_path = \"alumno_proyecto.csv\"\n",
    "df = pd.read_csv(csv_path)\n",
    "df.head()\n",
    "df.info()"
   ]
  },
  {
   "cell_type": "code",
   "execution_count": 6,
   "id": "46e17fee",
   "metadata": {},
   "outputs": [
    {
     "name": "stdout",
     "output_type": "stream",
     "text": [
      "   total\n",
      "0    260\n"
     ]
    },
    {
     "data": {
      "text/html": [
       "<div>\n",
       "<style scoped>\n",
       "    .dataframe tbody tr th:only-of-type {\n",
       "        vertical-align: middle;\n",
       "    }\n",
       "\n",
       "    .dataframe tbody tr th {\n",
       "        vertical-align: top;\n",
       "    }\n",
       "\n",
       "    .dataframe thead th {\n",
       "        text-align: right;\n",
       "    }\n",
       "</style>\n",
       "<table border=\"1\" class=\"dataframe\">\n",
       "  <thead>\n",
       "    <tr style=\"text-align: right;\">\n",
       "      <th></th>\n",
       "      <th>id_alumno</th>\n",
       "      <th>id_proyecto</th>\n",
       "      <th>calificacion</th>\n",
       "    </tr>\n",
       "  </thead>\n",
       "  <tbody>\n",
       "    <tr>\n",
       "      <th>0</th>\n",
       "      <td>1</td>\n",
       "      <td>1</td>\n",
       "      <td>Apto</td>\n",
       "    </tr>\n",
       "    <tr>\n",
       "      <th>1</th>\n",
       "      <td>1</td>\n",
       "      <td>2</td>\n",
       "      <td>No Apto</td>\n",
       "    </tr>\n",
       "    <tr>\n",
       "      <th>2</th>\n",
       "      <td>1</td>\n",
       "      <td>3</td>\n",
       "      <td>Apto</td>\n",
       "    </tr>\n",
       "    <tr>\n",
       "      <th>3</th>\n",
       "      <td>1</td>\n",
       "      <td>4</td>\n",
       "      <td>Apto</td>\n",
       "    </tr>\n",
       "    <tr>\n",
       "      <th>4</th>\n",
       "      <td>1</td>\n",
       "      <td>5</td>\n",
       "      <td>Apto</td>\n",
       "    </tr>\n",
       "  </tbody>\n",
       "</table>\n",
       "</div>"
      ],
      "text/plain": [
       "   id_alumno  id_proyecto calificacion\n",
       "0          1            1         Apto\n",
       "1          1            2      No Apto\n",
       "2          1            3         Apto\n",
       "3          1            4         Apto\n",
       "4          1            5         Apto"
      ]
     },
     "execution_count": 6,
     "metadata": {},
     "output_type": "execute_result"
    }
   ],
   "source": [
    "table_name = \"alumno_proyecto\"\n",
    "\n",
    "# Crear (o reemplazar) la tabla en la base de datos con los datos del CSV\n",
    "df.to_sql(table_name, conn, if_exists=\"replace\", index=False)\n",
    "\n",
    "# Verificar que se ha cargado correctamente\n",
    "print(sql_query(f\"SELECT COUNT(*) AS total FROM {table_name}\"))\n",
    "sql_query(f\"SELECT * FROM {table_name} LIMIT 5\")"
   ]
  },
  {
   "cell_type": "code",
   "execution_count": 7,
   "id": "e356093c",
   "metadata": {},
   "outputs": [
    {
     "name": "stdout",
     "output_type": "stream",
     "text": [
      "<class 'pandas.core.frame.DataFrame'>\n",
      "RangeIndex: 52 entries, 0 to 51\n",
      "Data columns (total 7 columns):\n",
      " #   Column          Non-Null Count  Dtype \n",
      "---  ------          --------------  ----- \n",
      " 0   id_alumno       52 non-null     int64 \n",
      " 1   nombre          52 non-null     object\n",
      " 2   email           52 non-null     object\n",
      " 3   promocion       52 non-null     object\n",
      " 4   fecha_comienzo  52 non-null     object\n",
      " 5   campus          52 non-null     object\n",
      " 6   vertical        52 non-null     object\n",
      "dtypes: int64(1), object(6)\n",
      "memory usage: 3.0+ KB\n"
     ]
    }
   ],
   "source": [
    "csv_path = \"alumnos.csv\"\n",
    "df = pd.read_csv(csv_path)\n",
    "df.head()\n",
    "df.info()"
   ]
  },
  {
   "cell_type": "code",
   "execution_count": null,
   "id": "1477e3d1",
   "metadata": {},
   "outputs": [
    {
     "name": "stdout",
     "output_type": "stream",
     "text": [
      "   total\n",
      "0     52\n"
     ]
    },
    {
     "data": {
      "text/html": [
       "<div>\n",
       "<style scoped>\n",
       "    .dataframe tbody tr th:only-of-type {\n",
       "        vertical-align: middle;\n",
       "    }\n",
       "\n",
       "    .dataframe tbody tr th {\n",
       "        vertical-align: top;\n",
       "    }\n",
       "\n",
       "    .dataframe thead th {\n",
       "        text-align: right;\n",
       "    }\n",
       "</style>\n",
       "<table border=\"1\" class=\"dataframe\">\n",
       "  <thead>\n",
       "    <tr style=\"text-align: right;\">\n",
       "      <th></th>\n",
       "      <th>id_alumno</th>\n",
       "      <th>nombre</th>\n",
       "      <th>email</th>\n",
       "      <th>promocion</th>\n",
       "      <th>fecha_comienzo</th>\n",
       "      <th>campus</th>\n",
       "      <th>vertical</th>\n",
       "    </tr>\n",
       "  </thead>\n",
       "  <tbody>\n",
       "    <tr>\n",
       "      <th>0</th>\n",
       "      <td>1</td>\n",
       "      <td>Jafet Casals</td>\n",
       "      <td>Jafet_Casals@gmail.com</td>\n",
       "      <td>Septiembre</td>\n",
       "      <td>2023-09-18</td>\n",
       "      <td>Madrid</td>\n",
       "      <td>DS</td>\n",
       "    </tr>\n",
       "    <tr>\n",
       "      <th>1</th>\n",
       "      <td>2</td>\n",
       "      <td>Jorge Manzanares</td>\n",
       "      <td>Jorge_Manzanares@gmail.com</td>\n",
       "      <td>Septiembre</td>\n",
       "      <td>2023-09-18</td>\n",
       "      <td>Madrid</td>\n",
       "      <td>DS</td>\n",
       "    </tr>\n",
       "    <tr>\n",
       "      <th>2</th>\n",
       "      <td>3</td>\n",
       "      <td>Onofre Adadia</td>\n",
       "      <td>Onofre_Adadia@gmail.com</td>\n",
       "      <td>Septiembre</td>\n",
       "      <td>2023-09-18</td>\n",
       "      <td>Madrid</td>\n",
       "      <td>DS</td>\n",
       "    </tr>\n",
       "    <tr>\n",
       "      <th>3</th>\n",
       "      <td>4</td>\n",
       "      <td>Merche Prada</td>\n",
       "      <td>Merche_Prada@gmail.com</td>\n",
       "      <td>Septiembre</td>\n",
       "      <td>2023-09-18</td>\n",
       "      <td>Madrid</td>\n",
       "      <td>DS</td>\n",
       "    </tr>\n",
       "    <tr>\n",
       "      <th>4</th>\n",
       "      <td>5</td>\n",
       "      <td>Pilar Abella</td>\n",
       "      <td>Pilar_Abella@gmail.com</td>\n",
       "      <td>Septiembre</td>\n",
       "      <td>2023-09-18</td>\n",
       "      <td>Madrid</td>\n",
       "      <td>DS</td>\n",
       "    </tr>\n",
       "  </tbody>\n",
       "</table>\n",
       "</div>"
      ],
      "text/plain": [
       "   id_alumno            nombre                       email   promocion  \\\n",
       "0          1      Jafet Casals      Jafet_Casals@gmail.com  Septiembre   \n",
       "1          2  Jorge Manzanares  Jorge_Manzanares@gmail.com  Septiembre   \n",
       "2          3     Onofre Adadia     Onofre_Adadia@gmail.com  Septiembre   \n",
       "3          4      Merche Prada      Merche_Prada@gmail.com  Septiembre   \n",
       "4          5      Pilar Abella      Pilar_Abella@gmail.com  Septiembre   \n",
       "\n",
       "  fecha_comienzo  campus vertical  \n",
       "0     2023-09-18  Madrid       DS  \n",
       "1     2023-09-18  Madrid       DS  \n",
       "2     2023-09-18  Madrid       DS  \n",
       "3     2023-09-18  Madrid       DS  \n",
       "4     2023-09-18  Madrid       DS  "
      ]
     },
     "execution_count": 8,
     "metadata": {},
     "output_type": "execute_result"
    }
   ],
   "source": [
    "table_name = \"alumno\"\n",
    "\n",
    "# Crear (o reemplazar) la tabla en la base de datos con los datos del CSV\n",
    "df.to_sql(table_name, conn, if_exists=\"replace\", index=False)\n",
    "\n",
    "# Verificar que se ha cargado correctamente\n",
    "print(sql_query(f\"SELECT COUNT(*) AS total FROM {table_name}\"))\n",
    "sql_query(f\"SELECT * FROM {table_name} LIMIT 5\")"
   ]
  },
  {
   "cell_type": "code",
   "execution_count": 9,
   "id": "1423c12f",
   "metadata": {},
   "outputs": [
    {
     "name": "stdout",
     "output_type": "stream",
     "text": [
      "<class 'pandas.core.frame.DataFrame'>\n",
      "RangeIndex: 10 entries, 0 to 9\n",
      "Data columns (total 7 columns):\n",
      " #   Column       Non-Null Count  Dtype \n",
      "---  ------       --------------  ----- \n",
      " 0   id_profesor  10 non-null     int64 \n",
      " 1   nombre       10 non-null     object\n",
      " 2   rol          10 non-null     object\n",
      " 3   vertical     10 non-null     object\n",
      " 4   promocion    10 non-null     object\n",
      " 5   campus       10 non-null     object\n",
      " 6   modalidad    10 non-null     object\n",
      "dtypes: int64(1), object(6)\n",
      "memory usage: 692.0+ bytes\n"
     ]
    }
   ],
   "source": [
    "csv_path = \"profesores.csv\"\n",
    "df = pd.read_csv(csv_path)\n",
    "df.head()\n",
    "df.info()"
   ]
  },
  {
   "cell_type": "code",
   "execution_count": 10,
   "id": "b153a79e",
   "metadata": {},
   "outputs": [
    {
     "name": "stdout",
     "output_type": "stream",
     "text": [
      "   total\n",
      "0     10\n"
     ]
    },
    {
     "data": {
      "text/html": [
       "<div>\n",
       "<style scoped>\n",
       "    .dataframe tbody tr th:only-of-type {\n",
       "        vertical-align: middle;\n",
       "    }\n",
       "\n",
       "    .dataframe tbody tr th {\n",
       "        vertical-align: top;\n",
       "    }\n",
       "\n",
       "    .dataframe thead th {\n",
       "        text-align: right;\n",
       "    }\n",
       "</style>\n",
       "<table border=\"1\" class=\"dataframe\">\n",
       "  <thead>\n",
       "    <tr style=\"text-align: right;\">\n",
       "      <th></th>\n",
       "      <th>id_profesor</th>\n",
       "      <th>nombre</th>\n",
       "      <th>rol</th>\n",
       "      <th>vertical</th>\n",
       "      <th>promocion</th>\n",
       "      <th>campus</th>\n",
       "      <th>modalidad</th>\n",
       "    </tr>\n",
       "  </thead>\n",
       "  <tbody>\n",
       "    <tr>\n",
       "      <th>0</th>\n",
       "      <td>1</td>\n",
       "      <td>Noa Yáñez</td>\n",
       "      <td>TA</td>\n",
       "      <td>DS</td>\n",
       "      <td>Septiembre</td>\n",
       "      <td>Madrid</td>\n",
       "      <td>Presencial</td>\n",
       "    </tr>\n",
       "    <tr>\n",
       "      <th>1</th>\n",
       "      <td>2</td>\n",
       "      <td>Saturnina Benitez</td>\n",
       "      <td>TA</td>\n",
       "      <td>DS</td>\n",
       "      <td>Septiembre</td>\n",
       "      <td>Madrid</td>\n",
       "      <td>Presencial</td>\n",
       "    </tr>\n",
       "    <tr>\n",
       "      <th>2</th>\n",
       "      <td>3</td>\n",
       "      <td>Anna Feliu</td>\n",
       "      <td>TA</td>\n",
       "      <td>FS</td>\n",
       "      <td>Septiembre</td>\n",
       "      <td>Madrid</td>\n",
       "      <td>Presencial</td>\n",
       "    </tr>\n",
       "    <tr>\n",
       "      <th>3</th>\n",
       "      <td>4</td>\n",
       "      <td>Rosalva Ayuso</td>\n",
       "      <td>TA</td>\n",
       "      <td>FS</td>\n",
       "      <td>Septiembre</td>\n",
       "      <td>Valencia</td>\n",
       "      <td>Presencial</td>\n",
       "    </tr>\n",
       "    <tr>\n",
       "      <th>4</th>\n",
       "      <td>5</td>\n",
       "      <td>Ana Sofía Ferrer</td>\n",
       "      <td>TA</td>\n",
       "      <td>FS</td>\n",
       "      <td>Febrero</td>\n",
       "      <td>Valencia</td>\n",
       "      <td>Presencial</td>\n",
       "    </tr>\n",
       "  </tbody>\n",
       "</table>\n",
       "</div>"
      ],
      "text/plain": [
       "   id_profesor             nombre rol vertical   promocion    campus  \\\n",
       "0            1          Noa Yáñez  TA       DS  Septiembre    Madrid   \n",
       "1            2  Saturnina Benitez  TA       DS  Septiembre    Madrid   \n",
       "2            3         Anna Feliu  TA       FS  Septiembre    Madrid   \n",
       "3            4      Rosalva Ayuso  TA       FS  Septiembre  Valencia   \n",
       "4            5   Ana Sofía Ferrer  TA       FS     Febrero  Valencia   \n",
       "\n",
       "    modalidad  \n",
       "0  Presencial  \n",
       "1  Presencial  \n",
       "2  Presencial  \n",
       "3  Presencial  \n",
       "4  Presencial  "
      ]
     },
     "execution_count": 10,
     "metadata": {},
     "output_type": "execute_result"
    }
   ],
   "source": [
    "table_name = \"profesores\"\n",
    "\n",
    "# Crear (o reemplazar) la tabla en la base de datos con los datos del CSV\n",
    "df.to_sql(table_name, conn, if_exists=\"replace\", index=False)\n",
    "\n",
    "# Verificar que se ha cargado correctamente\n",
    "print(sql_query(f\"SELECT COUNT(*) AS total FROM {table_name}\"))\n",
    "sql_query(f\"SELECT * FROM {table_name} LIMIT 5\")"
   ]
  },
  {
   "cell_type": "code",
   "execution_count": 11,
   "id": "23edffe8",
   "metadata": {},
   "outputs": [
    {
     "name": "stdout",
     "output_type": "stream",
     "text": [
      "<class 'pandas.core.frame.DataFrame'>\n",
      "RangeIndex: 10 entries, 0 to 9\n",
      "Data columns (total 3 columns):\n",
      " #   Column           Non-Null Count  Dtype \n",
      "---  ------           --------------  ----- \n",
      " 0   id_proyecto      10 non-null     int64 \n",
      " 1   nombre_proyecto  10 non-null     object\n",
      " 2   vertical         10 non-null     object\n",
      "dtypes: int64(1), object(2)\n",
      "memory usage: 372.0+ bytes\n"
     ]
    }
   ],
   "source": [
    "csv_path = \"proyectos.csv\"\n",
    "df = pd.read_csv(csv_path)\n",
    "df.head()\n",
    "df.info()"
   ]
  },
  {
   "cell_type": "code",
   "execution_count": 12,
   "id": "0cf61fe7",
   "metadata": {},
   "outputs": [
    {
     "name": "stdout",
     "output_type": "stream",
     "text": [
      "   total\n",
      "0     10\n"
     ]
    },
    {
     "data": {
      "text/html": [
       "<div>\n",
       "<style scoped>\n",
       "    .dataframe tbody tr th:only-of-type {\n",
       "        vertical-align: middle;\n",
       "    }\n",
       "\n",
       "    .dataframe tbody tr th {\n",
       "        vertical-align: top;\n",
       "    }\n",
       "\n",
       "    .dataframe thead th {\n",
       "        text-align: right;\n",
       "    }\n",
       "</style>\n",
       "<table border=\"1\" class=\"dataframe\">\n",
       "  <thead>\n",
       "    <tr style=\"text-align: right;\">\n",
       "      <th></th>\n",
       "      <th>id_proyecto</th>\n",
       "      <th>nombre_proyecto</th>\n",
       "      <th>vertical</th>\n",
       "    </tr>\n",
       "  </thead>\n",
       "  <tbody>\n",
       "    <tr>\n",
       "      <th>0</th>\n",
       "      <td>1</td>\n",
       "      <td>HLF</td>\n",
       "      <td>DS</td>\n",
       "    </tr>\n",
       "    <tr>\n",
       "      <th>1</th>\n",
       "      <td>2</td>\n",
       "      <td>EDA</td>\n",
       "      <td>DS</td>\n",
       "    </tr>\n",
       "    <tr>\n",
       "      <th>2</th>\n",
       "      <td>3</td>\n",
       "      <td>BBDD</td>\n",
       "      <td>DS</td>\n",
       "    </tr>\n",
       "    <tr>\n",
       "      <th>3</th>\n",
       "      <td>4</td>\n",
       "      <td>ML</td>\n",
       "      <td>DS</td>\n",
       "    </tr>\n",
       "    <tr>\n",
       "      <th>4</th>\n",
       "      <td>5</td>\n",
       "      <td>Deployment</td>\n",
       "      <td>DS</td>\n",
       "    </tr>\n",
       "  </tbody>\n",
       "</table>\n",
       "</div>"
      ],
      "text/plain": [
       "   id_proyecto nombre_proyecto vertical\n",
       "0            1             HLF       DS\n",
       "1            2             EDA       DS\n",
       "2            3            BBDD       DS\n",
       "3            4              ML       DS\n",
       "4            5      Deployment       DS"
      ]
     },
     "execution_count": 12,
     "metadata": {},
     "output_type": "execute_result"
    }
   ],
   "source": [
    "table_name = \"proyectos\"\n",
    "\n",
    "# Crear (o reemplazar) la tabla en la base de datos con los datos del CSV\n",
    "df.to_sql(table_name, conn, if_exists=\"replace\", index=False)\n",
    "\n",
    "# Verificar que se ha cargado correctamente\n",
    "print(sql_query(f\"SELECT COUNT(*) AS total FROM {table_name}\"))\n",
    "sql_query(f\"SELECT * FROM {table_name} LIMIT 5\")"
   ]
  }
 ],
 "metadata": {
  "kernelspec": {
   "display_name": "Python 3",
   "language": "python",
   "name": "python3"
  },
  "language_info": {
   "codemirror_mode": {
    "name": "ipython",
    "version": 3
   },
   "file_extension": ".py",
   "mimetype": "text/x-python",
   "name": "python",
   "nbconvert_exporter": "python",
   "pygments_lexer": "ipython3",
   "version": "3.14.0"
  }
 },
 "nbformat": 4,
 "nbformat_minor": 5
}
