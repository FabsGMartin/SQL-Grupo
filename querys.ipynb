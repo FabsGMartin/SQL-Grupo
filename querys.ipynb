{
 "cells": [
  {
   "cell_type": "markdown",
   "id": "f4538a97",
   "metadata": {},
   "source": [
    "## 1. ¿Cuantos alumnos diferentes hay en la edición de septiembre?"
   ]
  },
  {
   "cell_type": "code",
   "execution_count": null,
   "id": "e46a1ca2",
   "metadata": {},
   "outputs": [],
   "source": [
    "cursor.execute('''\n",
    "SELECT DISTINCT (COUNT(a.id))\n",
    "FROM Bootcamps b\n",
    "INNER JOIN Promociones p ON b.promocion_id = p.id\n",
    "INNER JOIN Alumnos a ON b.id = a.bootcamp_id\n",
    "WHERE p.promocion = 'Septiembre'\n",
    "''')"
   ]
  },
  {
   "cell_type": "markdown",
   "id": "a779cb48",
   "metadata": {},
   "source": [
    "## 2. ¿Que campus ha acogido más alumnos?"
   ]
  },
  {
   "cell_type": "code",
   "execution_count": null,
   "id": "22852841",
   "metadata": {},
   "outputs": [],
   "source": [
    "\n",
    "cursor.execute('''\n",
    "SELECT c.campus,count(a.id)\n",
    "FROM campus c\n",
    "LEFT JOIN Bootcamps b ON c.id = b.campus_id\n",
    "LEFT JOIN Alumnos a ON b.id = a.bootcamp_id\n",
    "GROUP BY c.campus\n",
    "''')"
   ]
  },
  {
   "cell_type": "markdown",
   "id": "665e1e55",
   "metadata": {},
   "source": [
    "## 3. Alumnos con al menos un \"No Apto\""
   ]
  },
  {
   "cell_type": "code",
   "execution_count": null,
   "id": "2acdc338",
   "metadata": {},
   "outputs": [],
   "source": [
    "cursor.execute('''\n",
    "WITH alumnos_con_no_apto AS (    -- inicia el cte (common table expression), con el nombre de la tabla temporal\n",
    "    SELECT DISTINCT alumno_id  --selecciona sin duplicados\n",
    "    FROM calificaciones\n",
    "    WHERE calificacion = 'No Apto'\n",
    ")\n",
    "SELECT\n",
    "    a.id,\n",
    "    a.nombre,\n",
    "    a.email,\n",
    "    a.bootcamp_id,\n",
    "    a.aula\n",
    "FROM alumnos a\n",
    "INNER JOIN alumnos_con_no_apto na ON a.id = na.alumno_id -- usamos la cte (tabla temporal), con alias \"na\", el ON es la condicion de union\n",
    "ORDER BY a.nombre;\n",
    "''')"
   ]
  },
  {
   "cell_type": "markdown",
   "id": "ac02404e",
   "metadata": {},
   "source": [
    "## 4. Alumno con la suma de proyectos que han sido evaluados"
   ]
  },
  {
   "cell_type": "code",
   "execution_count": null,
   "id": "258014ea",
   "metadata": {},
   "outputs": [],
   "source": [
    "cursor.execute('''\n",
    "SELECT a.nombre, count(ca.id) AS suma_entregas\n",
    "FROM alumnos a\n",
    "LEFT JOIN calificaciones ca ON a.id = ca.alumno_id\n",
    "GROUP BY a.nombre\n",
    "ORDER BY suma_entregas DESC;\n",
    "''')"
   ]
  },
  {
   "cell_type": "markdown",
   "id": "a115778a",
   "metadata": {},
   "source": [
    "## 5. % de aprobados y suspensos por campus\n"
   ]
  },
  {
   "cell_type": "code",
   "execution_count": null,
   "id": "0db4a90f",
   "metadata": {},
   "outputs": [],
   "source": [
    "cursor.execute('''\n",
    "SELECT\n",
    "    c.campus,\n",
    "    ROUND(100.0 * SUM(CASE WHEN LOWER(ca.calificacion) = 'apto' THEN 1 ELSE 0 END) / COUNT(*), 2) AS porcentaje_apto,\n",
    "    ROUND(100.0 * SUM(CASE WHEN LOWER(ca.calificacion) = 'no apto' THEN 1 ELSE 0 END) / COUNT(*), 2) AS porcentaje_no_apto\n",
    "FROM Alumnos a\n",
    "JOIN Bootcamps b ON a.bootcamp_id = b.id\n",
    "LEFT JOIN Calificaciones ca ON a.id = ca.alumno_id\n",
    "LEFT JOIN Campus c ON b.campus_id = c.id\n",
    "GROUP BY c.campus;\n",
    "''')"
   ]
  }
 ],
 "metadata": {
  "kernelspec": {
   "display_name": "Python 3",
   "language": "python",
   "name": "python3"
  },
  "language_info": {
   "name": "python",
   "version": "3.14.0"
  }
 },
 "nbformat": 4,
 "nbformat_minor": 5
}
