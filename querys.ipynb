{
 "cells": [
  {
   "cell_type": "markdown",
   "id": "f4538a97",
   "metadata": {},
   "source": [
    "## 1. ¿Cuantos alumnos diferentes hay en la edición de septiembre¿"
   ]
  },
  {
   "cell_type": "code",
   "execution_count": null,
   "id": "e46a1ca2",
   "metadata": {},
   "outputs": [],
   "source": [
    "cursor.execute('''\n",
    "SELECT DISTINCT (COUNT(a.id))\n",
    "FROM Bootcamps b\n",
    "INNER JOIN Promociones p ON b.promocion_id = p.id\n",
    "INNER JOIN Alumnos a ON b.id = a.bootcamp_id\n",
    "''')"
   ]
  },
  {
   "cell_type": "markdown",
   "id": "a779cb48",
   "metadata": {},
   "source": [
    "## 2. ¿Que campus ha acogido más alumnos?"
   ]
  },
  {
   "cell_type": "code",
   "execution_count": null,
   "id": "22852841",
   "metadata": {},
   "outputs": [],
   "source": [
    "cursor.execute('''\n",
    "SELECT c.campus,count(a.id)\n",
    "FROM campus c\n",
    "LEFT JOIN Bootcamps b ON c.id = b.campus_id\n",
    "LEFT JOIN Alumnos a ON b.id = a.bootcamp_id\n",
    "GROUP BY c.campus\n",
    "''')"
   ]
  }
 ],
 "metadata": {
  "kernelspec": {
   "display_name": "Python 3",
   "language": "python",
   "name": "python3"
  },
  "language_info": {
   "name": "python",
   "version": "3.14.0"
  }
 },
 "nbformat": 4,
 "nbformat_minor": 5
}
