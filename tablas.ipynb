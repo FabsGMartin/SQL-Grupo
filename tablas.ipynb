{
 "cells": [
  {
   "cell_type": "markdown",
   "id": "a4846923",
   "metadata": {},
   "source": [
    "## Tabla modalidades\n"
   ]
  },
  {
   "cell_type": "code",
   "execution_count": 46,
   "id": "fea9c537",
   "metadata": {},
   "outputs": [],
   "source": [
    "import pandas as pd\n",
    "import sqlite3"
   ]
  },
  {
   "cell_type": "code",
   "execution_count": 47,
   "id": "b98d50eb",
   "metadata": {},
   "outputs": [],
   "source": [
    "conn = sqlite3.connect(\"database.db\")\n",
    "cursor = conn.cursor()"
   ]
  },
  {
   "cell_type": "code",
   "execution_count": 48,
   "id": "7452f15c",
   "metadata": {},
   "outputs": [
    {
     "data": {
      "text/plain": [
       "<sqlite3.Cursor at 0x150a23cc0>"
      ]
     },
     "execution_count": 48,
     "metadata": {},
     "output_type": "execute_result"
    }
   ],
   "source": [
    "cursor.execute('''\n",
    "CREATE TABLE IF NOT EXISTS modalidades (\n",
    "    id SERIAL PRIMARY KEY,\n",
    "    modalidad VARCHAR(100) NOT NULL\n",
    ")\n",
    "''')\n"
   ]
  },
  {
   "cell_type": "markdown",
   "id": "0dfc21d1",
   "metadata": {},
   "source": [
    "## Tablas verticales "
   ]
  },
  {
   "cell_type": "code",
   "execution_count": 50,
   "id": "e5862d9a",
   "metadata": {},
   "outputs": [
    {
     "data": {
      "text/plain": [
       "<sqlite3.Cursor at 0x150a23cc0>"
      ]
     },
     "execution_count": 50,
     "metadata": {},
     "output_type": "execute_result"
    }
   ],
   "source": [
    "cursor.execute('''\n",
    "CREATE TABLE IF NOT EXISTS verticales (\n",
    "    id SERIAL PRIMARY KEY,\n",
    "    verticales TEXT\n",
    ")\n",
    "''')"
   ]
  },
  {
   "cell_type": "markdown",
   "id": "3a251048",
   "metadata": {},
   "source": [
    "## Tabla calificaciones"
   ]
  },
  {
   "cell_type": "code",
   "execution_count": 51,
   "id": "77460d84",
   "metadata": {},
   "outputs": [],
   "source": [
    "cursor.execute('''\n",
    "CREATE TABLE IF NOT EXISTS calificaciones (\n",
    "    id SERIAL PRIMARY KEY,\n",
    "    alumno_id INTEGER,\n",
    "    proyecto_id INTEGER,\n",
    "    calificacion TEXT,\n",
    "    FOREIGN KEY (alumno_id) REFERENCES alumnos(id),\n",
    "    FOREIGN KEY (proyecto_id) REFERENCES proyectos(id)\n",
    ")\n",
    "''')\n",
    "conn.commit()"
   ]
  },
  {
   "cell_type": "markdown",
   "id": "d25dc6b2",
   "metadata": {},
   "source": [
    "## Tabla profesores"
   ]
  },
  {
   "cell_type": "code",
   "execution_count": 52,
   "id": "9bc376da",
   "metadata": {},
   "outputs": [],
   "source": [
    "cursor.execute('''\n",
    "CREATE TABLE IF NOT EXISTS profesores (\n",
    "    id SERIAL PRIMARY KEY,\n",
    "    nombre TEXT,\n",
    "    rol_id VARCHAR,\n",
    "    bootcamp_id INTEGER,\n",
    "    modalidad_id INTEGER,\n",
    "    FOREIGN KEY (rol_id) REFERENCES roles_profesores(id),\n",
    "    FOREIGN KEY (bootcamp_id) REFERENCES bootcamps(id),\n",
    "    FOREIGN KEY (modalidad_id) REFERENCES modalidad(id)\n",
    ")\n",
    "''')\n",
    "conn.commit()"
   ]
  },
  {
   "cell_type": "markdown",
   "id": "87cba309",
   "metadata": {},
   "source": [
    "## Tabla proyectos"
   ]
  },
  {
   "cell_type": "code",
   "execution_count": 53,
   "id": "ad598a3b",
   "metadata": {},
   "outputs": [],
   "source": [
    "cursor.execute('''\n",
    "CREATE TABLE IF NOT EXISTS proyectos (\n",
    "    id INTEGER PRIMARY KEY,\n",
    "    nombre TEXT,\n",
    "    vertical_id TEXT,\n",
    "    FOREIGN KEY (vertical_id) REFERENCES verticales(id)\n",
    ")\n",
    "''')\n",
    "conn.commit()"
   ]
  },
  {
   "cell_type": "markdown",
   "id": "4066033b",
   "metadata": {},
   "source": [
    "## Tabla alumnos"
   ]
  },
  {
   "cell_type": "code",
   "execution_count": 54,
   "id": "327a1e3c",
   "metadata": {},
   "outputs": [],
   "source": [
    "cursor.execute('''\n",
    "CREATE TABLE IF NOT EXISTS alumnos (\n",
    "    id SERIAL PRIMARY KEY,\n",
    "    nombre TEXT,\n",
    "    email TEXT,\n",
    "    bootcamp_id INTEGER,\n",
    "    fecha_comienzo DATE,\n",
    "    aula INTEGER,\n",
    "    FOREIGN KEY (bootcamp_id) REFERENCES bootcamps(id)\n",
    ")\n",
    "''')\n",
    "conn.commit()\n"
   ]
  },
  {
   "cell_type": "markdown",
   "id": "e48fafdc",
   "metadata": {},
   "source": [
    "## Tabla bootcamp"
   ]
  },
  {
   "cell_type": "code",
   "execution_count": 55,
   "id": "31f545f4",
   "metadata": {},
   "outputs": [],
   "source": [
    "cursor.execute('''\n",
    "CREATE TABLE IF NOT EXISTS proyectos (\n",
    "    id SERIAL PRIMARY KEY,\n",
    "    nombre TEXT,\n",
    "    vertical_id TEXT,\n",
    "    FOREIGN KEY (vertical_id) REFERENCES verticales(id)\n",
    ")\n",
    "''')\n",
    "conn.commit()"
   ]
  },
  {
   "cell_type": "markdown",
   "id": "227b2898",
   "metadata": {},
   "source": [
    "## Tabla roles profesores"
   ]
  },
  {
   "cell_type": "code",
   "execution_count": 56,
   "id": "394b133a",
   "metadata": {},
   "outputs": [
    {
     "data": {
      "text/plain": [
       "<sqlite3.Cursor at 0x150a23cc0>"
      ]
     },
     "execution_count": 56,
     "metadata": {},
     "output_type": "execute_result"
    }
   ],
   "source": [
    "cursor.execute('''\n",
    "CREATE TABLE IF NOT EXISTS roles_profesores (\n",
    "    id SERIAL PRIMARY KEY,\n",
    "    rol TEXT\n",
    ")\n",
    "''')"
   ]
  },
  {
   "cell_type": "markdown",
   "id": "e629a198",
   "metadata": {},
   "source": [
    "## Tabla campus"
   ]
  },
  {
   "cell_type": "code",
   "execution_count": 58,
   "id": "fc0535d9",
   "metadata": {},
   "outputs": [
    {
     "data": {
      "text/plain": [
       "<sqlite3.Cursor at 0x150a23cc0>"
      ]
     },
     "execution_count": 58,
     "metadata": {},
     "output_type": "execute_result"
    }
   ],
   "source": [
    "cursor.execute('''\n",
    "CREATE TABLE IF NOT EXISTS campus (\n",
    "    id SERIAL PRIMARY KEY,\n",
    "    campus TEXT\n",
    ")\n",
    "''')"
   ]
  },
  {
   "cell_type": "markdown",
   "id": "b2b6da6c",
   "metadata": {},
   "source": [
    "## Tabla promociones"
   ]
  },
  {
   "cell_type": "code",
   "execution_count": 59,
   "id": "02813de5",
   "metadata": {},
   "outputs": [
    {
     "data": {
      "text/plain": [
       "<sqlite3.Cursor at 0x150a23cc0>"
      ]
     },
     "execution_count": 59,
     "metadata": {},
     "output_type": "execute_result"
    }
   ],
   "source": [
    "cursor.execute('''\n",
    "CREATE TABLE IF NOT EXISTS promociones (\n",
    "    id SERIAL PRIMARY KEY,\n",
    "    promocion TEXT\n",
    ")\n",
    "''')"
   ]
  }
 ],
 "metadata": {
  "kernelspec": {
   "display_name": "Python 3",
   "language": "python",
   "name": "python3"
  },
  "language_info": {
   "codemirror_mode": {
    "name": "ipython",
    "version": 3
   },
   "file_extension": ".py",
   "mimetype": "text/x-python",
   "name": "python",
   "nbconvert_exporter": "python",
   "pygments_lexer": "ipython3",
   "version": "3.14.0"
  }
 },
 "nbformat": 4,
 "nbformat_minor": 5
}
